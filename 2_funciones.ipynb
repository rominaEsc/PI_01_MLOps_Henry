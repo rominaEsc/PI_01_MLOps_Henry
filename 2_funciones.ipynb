{
 "cells": [
  {
   "cell_type": "code",
   "execution_count": 1,
   "metadata": {},
   "outputs": [],
   "source": [
    "import pandas as pd "
   ]
  },
  {
   "cell_type": "code",
   "execution_count": 7,
   "metadata": {},
   "outputs": [],
   "source": [
    "release_date = pd.read_csv(\"release_date.csv\", sep=\",\")\n",
    "production_countries = pd.read_csv(\"production_countries.csv\", sep=\",\")\n",
    "movies_production_countries = pd.read_csv(\"movies_production_countries.csv\", sep=\",\")"
   ]
  },
  {
   "cell_type": "code",
   "execution_count": 8,
   "metadata": {},
   "outputs": [],
   "source": [
    "# @app.get('/peliculas_mes/{mes}')\n",
    "def peliculas_mes(mes:str):\n",
    "    '''Se ingresa el mes y la funcion retorna la cantidad de peliculas que se estrenaron ese mes historicamente'''\n",
    "    # assert mes in ['enero','febrero','marzo','abril','mayo','junio','julio','agosto','septiembre','octubre','noviembre','diciembre'], f'Debe ingresar el nombre del mes en español. Ej: \"Septiembre\"'\n",
    "    cantidad  = len(release_date[release_date['month']==mes])\n",
    "    return {'mes':mes, 'cantidad':cantidad}\n",
    "\n",
    "# @app.get('/peliculas_dis/{dis}')\n",
    "def peliculas_dia(dia:str):\n",
    "    '''Se ingresa el dia y la funcion retorna la cantidad de peliculas que se estrebaron ese dia historicamente'''\n",
    "    assert dia in ['lunes','martes','miercoles','jueves', 'viernes', 'sabado', 'domingo'], f'Debe ingresar el nombre del mes en español. Ej: \"Septiembre\"'\n",
    "    cantidad  = len(release_date[release_date['day_name']==dia])\n",
    "    return {'dia':dia, 'cantidad':cantidad}\n",
    "\n",
    "# @app.get('/peliculas_pais/{pais}')\n",
    "def peliculas_pais(pais:str):\n",
    "    '''Ingresas el pais, retornando la cantidad de peliculas producidas en el mismo'''\n",
    "    assert pais in production_countries['name'].unique(), f'Error al ingresar el pais. Intente nuevamente. (Ej: \"Germany)\"'\n",
    "    id = production_countries[production_countries.name == pais].iloc[0,0]\n",
    "    cantidad  = len(movies_production_countries[movies_production_countries['id_production_countries']==id])\n",
    "    return {'pais':pais, 'cantidad':cantidad}\n"
   ]
  },
  {
   "cell_type": "code",
   "execution_count": null,
   "metadata": {},
   "outputs": [],
   "source": [
    "\n",
    "# @app.get('/franquicia/{franquicia}')\n",
    "# def franquicia(franquicia:str):\n",
    "#     '''Se ingresa la franquicia, retornando la cantidad de peliculas, ganancia total y promedio'''\n",
    "#     return {'franquicia':franquicia, 'cantidad':respuesta, 'ganancia_total':respuesta, 'ganancia_promedio':respuesta}\n",
    "\n",
    "\n",
    "# @app.get('/productoras/{productora}')\n",
    "# def productoras(productora:str):\n",
    "#     '''Ingresas la productora, retornando la ganancia toal y la cantidad de peliculas que produjeron'''\n",
    "#     return {'productora':productora, 'ganancia_total':respuesta, 'cantidad':respuesta}\n",
    "\n",
    "# @app.get('/retorno/{pelicula}')\n",
    "# def retorno(pelicula:str):\n",
    "#     '''Ingresas la pelicula, retornando la inversion, la ganancia, el retorno y el año en el que se lanzo'''\n",
    "#     return {'pelicula':pelicula, 'inversion':respuesta, 'ganacia':respuesta,'retorno':respuesta, 'anio':respuesta}\n",
    "\n",
    "# # ML\n",
    "# @app.get('/recomendacion/{titulo}')\n",
    "# def recomendacion(titulo:str):\n",
    "#     '''Ingresas un nombre de pelicula y te recomienda las similares en una lista'''\n",
    "#     return {'lista recomendada': respuesta}"
   ]
  }
 ],
 "metadata": {
  "kernelspec": {
   "display_name": "Python 3",
   "language": "python",
   "name": "python3"
  },
  "language_info": {
   "codemirror_mode": {
    "name": "ipython",
    "version": 3
   },
   "file_extension": ".py",
   "mimetype": "text/x-python",
   "name": "python",
   "nbconvert_exporter": "python",
   "pygments_lexer": "ipython3",
   "version": "3.11.0"
  },
  "orig_nbformat": 4
 },
 "nbformat": 4,
 "nbformat_minor": 2
}
