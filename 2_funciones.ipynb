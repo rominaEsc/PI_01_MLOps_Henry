{
 "cells": [
  {
   "cell_type": "code",
   "execution_count": 330,
   "metadata": {},
   "outputs": [],
   "source": [
    "import pandas as pd \n",
    "import matplotlib.pyplot as plt\n",
    "import seaborn as sns"
   ]
  },
  {
   "cell_type": "code",
   "execution_count": 331,
   "metadata": {},
   "outputs": [],
   "source": [
    "release_date = pd.read_csv(\"data/release_date.csv\", sep=\",\")\n",
    "production_countries = pd.read_csv(\"data/production_countries.csv\", sep=\",\")\n",
    "movies_production_countries = pd.read_csv(\"data/movies_production_countries.csv\", sep=\",\")\n",
    "collections = pd.read_csv(\"data/collections.csv\", sep=\",\")\n",
    "movies = pd.read_csv(\"data/movies.csv\", sep=\",\")\n",
    "production_companies = pd.read_csv(\"data/production_companies.csv\", sep=\",\")\n",
    "movies_production_companies = pd.read_csv(\"data/movies_production_companies.csv\", sep=\",\")\n"
   ]
  },
  {
   "attachments": {},
   "cell_type": "markdown",
   "metadata": {},
   "source": [
    "Función peliculas_mes"
   ]
  },
  {
   "cell_type": "code",
   "execution_count": 332,
   "metadata": {},
   "outputs": [],
   "source": [
    "# @app.get('/peliculas_mes/{mes}')\n",
    "def peliculas_mes(mes:str):\n",
    "    '''Se ingresa el mes y la funcion retorna la cantidad de peliculas que se estrenaron ese mes historicamente'''\n",
    "    assert mes in ['enero','febrero','marzo','abril','mayo','junio','julio','agosto','septiembre','octubre','noviembre','diciembre'], f'Debe ingresar el nombre del mes en español. Ej: \"Septiembre\"'\n",
    "    cantidad  = len(release_date[release_date['month']==mes])\n",
    "    return {'mes':mes, 'cantidad':cantidad}"
   ]
  },
  {
   "attachments": {},
   "cell_type": "markdown",
   "metadata": {},
   "source": [
    "Verificación"
   ]
  },
  {
   "cell_type": "code",
   "execution_count": 333,
   "metadata": {},
   "outputs": [
    {
     "data": {
      "text/plain": [
       "{'mes': 'enero', 'cantidad': 5909}"
      ]
     },
     "execution_count": 333,
     "metadata": {},
     "output_type": "execute_result"
    }
   ],
   "source": [
    "peliculas_mes('enero')"
   ]
  },
  {
   "attachments": {},
   "cell_type": "markdown",
   "metadata": {},
   "source": [
    "Función peliculas_dia"
   ]
  },
  {
   "cell_type": "code",
   "execution_count": 334,
   "metadata": {},
   "outputs": [],
   "source": [
    "# @app.get('/peliculas_dis/{dis}')\n",
    "def peliculas_dia(dia:str):\n",
    "    '''Se ingresa el dia y la funcion retorna la cantidad de peliculas que se estrebaron ese dia historicamente'''\n",
    "    assert dia in ['lunes','martes','miercoles','jueves', 'viernes', 'sabado', 'domingo'], f'Debe ingresar el nombre del día en español(sin tilde). Ej: \"miercoles\"'\n",
    "    cantidad  = len(release_date[release_date['day_name']==dia])\n",
    "    return {'dia':dia, 'cantidad':cantidad}"
   ]
  },
  {
   "attachments": {},
   "cell_type": "markdown",
   "metadata": {},
   "source": [
    "Verificación"
   ]
  },
  {
   "cell_type": "code",
   "execution_count": 335,
   "metadata": {},
   "outputs": [
    {
     "data": {
      "text/plain": [
       "{'dia': 'lunes', 'cantidad': 3500}"
      ]
     },
     "execution_count": 335,
     "metadata": {},
     "output_type": "execute_result"
    }
   ],
   "source": [
    "peliculas_dia('lunes') "
   ]
  },
  {
   "attachments": {},
   "cell_type": "markdown",
   "metadata": {},
   "source": [
    "Función franquicia"
   ]
  },
  {
   "cell_type": "code",
   "execution_count": 336,
   "metadata": {},
   "outputs": [],
   "source": [
    "# @app.get('/franquicia/{franquicia}')\n",
    "def franquicia(franquicia:str):\n",
    "    '''Se ingresa la franquicia, retornando la cantidad de peliculas, ganancia total y promedio'''\n",
    "    id = collections[collections.name == franquicia].iloc[0,0]\n",
    "    cantidad  = len(movies[movies['id_collection'] == id])\n",
    "    ganancia_total = movies['revenue'][movies['id_collection']==id].sum()\n",
    "    ganancia_promedio = movies['revenue'][movies['id_collection']==id].mean()\n",
    "    return {'franquicia':franquicia, 'cantidad':cantidad,'ganancia_total':ganancia_total, 'ganancia_promedio':ganancia_promedio}"
   ]
  },
  {
   "attachments": {},
   "cell_type": "markdown",
   "metadata": {},
   "source": [
    "Verificación"
   ]
  },
  {
   "cell_type": "code",
   "execution_count": 337,
   "metadata": {},
   "outputs": [
    {
     "data": {
      "text/html": [
       "<div>\n",
       "<style scoped>\n",
       "    .dataframe tbody tr th:only-of-type {\n",
       "        vertical-align: middle;\n",
       "    }\n",
       "\n",
       "    .dataframe tbody tr th {\n",
       "        vertical-align: top;\n",
       "    }\n",
       "\n",
       "    .dataframe thead th {\n",
       "        text-align: right;\n",
       "    }\n",
       "</style>\n",
       "<table border=\"1\" class=\"dataframe\">\n",
       "  <thead>\n",
       "    <tr style=\"text-align: right;\">\n",
       "      <th></th>\n",
       "      <th>id_collection</th>\n",
       "      <th>name</th>\n",
       "    </tr>\n",
       "  </thead>\n",
       "  <tbody>\n",
       "    <tr>\n",
       "      <th>0</th>\n",
       "      <td>10194</td>\n",
       "      <td>Toy Story Collection</td>\n",
       "    </tr>\n",
       "    <tr>\n",
       "      <th>1</th>\n",
       "      <td>119050</td>\n",
       "      <td>Grumpy Old Men Collection</td>\n",
       "    </tr>\n",
       "  </tbody>\n",
       "</table>\n",
       "</div>"
      ],
      "text/plain": [
       "   id_collection                       name\n",
       "0          10194       Toy Story Collection\n",
       "1         119050  Grumpy Old Men Collection"
      ]
     },
     "execution_count": 337,
     "metadata": {},
     "output_type": "execute_result"
    }
   ],
   "source": [
    "collections.head(2)"
   ]
  },
  {
   "cell_type": "code",
   "execution_count": 338,
   "metadata": {},
   "outputs": [
    {
     "data": {
      "text/plain": [
       "{'franquicia': 'Toy Story Collection',\n",
       " 'cantidad': 3,\n",
       " 'ganancia_total': 1937890605.0,\n",
       " 'ganancia_promedio': 645963535.0}"
      ]
     },
     "execution_count": 338,
     "metadata": {},
     "output_type": "execute_result"
    }
   ],
   "source": [
    "franquicia('Toy Story Collection')"
   ]
  },
  {
   "cell_type": "code",
   "execution_count": 339,
   "metadata": {},
   "outputs": [
    {
     "data": {
      "text/html": [
       "<div>\n",
       "<style scoped>\n",
       "    .dataframe tbody tr th:only-of-type {\n",
       "        vertical-align: middle;\n",
       "    }\n",
       "\n",
       "    .dataframe tbody tr th {\n",
       "        vertical-align: top;\n",
       "    }\n",
       "\n",
       "    .dataframe thead th {\n",
       "        text-align: right;\n",
       "    }\n",
       "</style>\n",
       "<table border=\"1\" class=\"dataframe\">\n",
       "  <thead>\n",
       "    <tr style=\"text-align: right;\">\n",
       "      <th></th>\n",
       "      <th>id_collection</th>\n",
       "      <th>name</th>\n",
       "    </tr>\n",
       "  </thead>\n",
       "  <tbody>\n",
       "    <tr>\n",
       "      <th>0</th>\n",
       "      <td>10194</td>\n",
       "      <td>Toy Story Collection</td>\n",
       "    </tr>\n",
       "  </tbody>\n",
       "</table>\n",
       "</div>"
      ],
      "text/plain": [
       "   id_collection                  name\n",
       "0          10194  Toy Story Collection"
      ]
     },
     "execution_count": 339,
     "metadata": {},
     "output_type": "execute_result"
    }
   ],
   "source": [
    "collections[collections['id_collection']==10194]"
   ]
  },
  {
   "cell_type": "code",
   "execution_count": 340,
   "metadata": {},
   "outputs": [
    {
     "data": {
      "text/html": [
       "<div>\n",
       "<style scoped>\n",
       "    .dataframe tbody tr th:only-of-type {\n",
       "        vertical-align: middle;\n",
       "    }\n",
       "\n",
       "    .dataframe tbody tr th {\n",
       "        vertical-align: top;\n",
       "    }\n",
       "\n",
       "    .dataframe thead th {\n",
       "        text-align: right;\n",
       "    }\n",
       "</style>\n",
       "<table border=\"1\" class=\"dataframe\">\n",
       "  <thead>\n",
       "    <tr style=\"text-align: right;\">\n",
       "      <th></th>\n",
       "      <th>id_movie</th>\n",
       "      <th>id_collection</th>\n",
       "      <th>title</th>\n",
       "      <th>tagline</th>\n",
       "      <th>overview</th>\n",
       "      <th>original_language</th>\n",
       "      <th>runtime</th>\n",
       "      <th>status</th>\n",
       "      <th>release_date</th>\n",
       "      <th>release_year</th>\n",
       "      <th>popularity</th>\n",
       "      <th>vote_average</th>\n",
       "      <th>budget</th>\n",
       "      <th>revenue</th>\n",
       "      <th>return</th>\n",
       "    </tr>\n",
       "  </thead>\n",
       "  <tbody>\n",
       "    <tr>\n",
       "      <th>0</th>\n",
       "      <td>862</td>\n",
       "      <td>10194.0</td>\n",
       "      <td>Toy Story</td>\n",
       "      <td>NaN</td>\n",
       "      <td>Led by Woody, Andy's toys live happily in his ...</td>\n",
       "      <td>en</td>\n",
       "      <td>81.0</td>\n",
       "      <td>Released</td>\n",
       "      <td>1995-10-30</td>\n",
       "      <td>1995.0</td>\n",
       "      <td>21.946943</td>\n",
       "      <td>7.7</td>\n",
       "      <td>30000000.0</td>\n",
       "      <td>3.735540e+08</td>\n",
       "      <td>0.080310</td>\n",
       "    </tr>\n",
       "    <tr>\n",
       "      <th>2994</th>\n",
       "      <td>863</td>\n",
       "      <td>10194.0</td>\n",
       "      <td>Toy Story 2</td>\n",
       "      <td>The toys are back!</td>\n",
       "      <td>Andy heads off to Cowboy Camp, leaving his toy...</td>\n",
       "      <td>en</td>\n",
       "      <td>92.0</td>\n",
       "      <td>Released</td>\n",
       "      <td>1999-10-30</td>\n",
       "      <td>1999.0</td>\n",
       "      <td>17.547693</td>\n",
       "      <td>7.3</td>\n",
       "      <td>90000000.0</td>\n",
       "      <td>4.973669e+08</td>\n",
       "      <td>0.180953</td>\n",
       "    </tr>\n",
       "    <tr>\n",
       "      <th>15335</th>\n",
       "      <td>10193</td>\n",
       "      <td>10194.0</td>\n",
       "      <td>Toy Story 3</td>\n",
       "      <td>No toy gets left behind.</td>\n",
       "      <td>Woody, Buzz, and the rest of Andy's toys haven...</td>\n",
       "      <td>en</td>\n",
       "      <td>103.0</td>\n",
       "      <td>Released</td>\n",
       "      <td>2010-06-16</td>\n",
       "      <td>2010.0</td>\n",
       "      <td>16.966470</td>\n",
       "      <td>7.6</td>\n",
       "      <td>200000000.0</td>\n",
       "      <td>1.066970e+09</td>\n",
       "      <td>0.187447</td>\n",
       "    </tr>\n",
       "  </tbody>\n",
       "</table>\n",
       "</div>"
      ],
      "text/plain": [
       "       id_movie  id_collection        title                   tagline  \\\n",
       "0           862        10194.0    Toy Story                       NaN   \n",
       "2994        863        10194.0  Toy Story 2        The toys are back!   \n",
       "15335     10193        10194.0  Toy Story 3  No toy gets left behind.   \n",
       "\n",
       "                                                overview original_language  \\\n",
       "0      Led by Woody, Andy's toys live happily in his ...                en   \n",
       "2994   Andy heads off to Cowboy Camp, leaving his toy...                en   \n",
       "15335  Woody, Buzz, and the rest of Andy's toys haven...                en   \n",
       "\n",
       "       runtime    status release_date  release_year  popularity  vote_average  \\\n",
       "0         81.0  Released   1995-10-30        1995.0   21.946943           7.7   \n",
       "2994      92.0  Released   1999-10-30        1999.0   17.547693           7.3   \n",
       "15335    103.0  Released   2010-06-16        2010.0   16.966470           7.6   \n",
       "\n",
       "            budget       revenue    return  \n",
       "0       30000000.0  3.735540e+08  0.080310  \n",
       "2994    90000000.0  4.973669e+08  0.180953  \n",
       "15335  200000000.0  1.066970e+09  0.187447  "
      ]
     },
     "execution_count": 340,
     "metadata": {},
     "output_type": "execute_result"
    }
   ],
   "source": [
    "movies[movies['id_collection']==10194]"
   ]
  },
  {
   "attachments": {},
   "cell_type": "markdown",
   "metadata": {},
   "source": [
    "Función peliculas_pais"
   ]
  },
  {
   "cell_type": "code",
   "execution_count": 341,
   "metadata": {},
   "outputs": [],
   "source": [
    "# @app.get('/peliculas_pais/{pais}')\n",
    "def peliculas_pais(pais:str):\n",
    "    '''Ingresas el pais, retornando la cantidad de peliculas producidas en el mismo'''\n",
    "    assert pais in production_countries['name'].unique(), f'Error al ingresar el pais. Intente nuevamente. (Ej: \"Germany)\"'\n",
    "    id = production_countries[production_countries.name == pais].iloc[0,0]\n",
    "    cantidad  = len(movies_production_countries[movies_production_countries['id_production_countries']==id])\n",
    "    return {'pais':pais, 'cantidad':cantidad}"
   ]
  },
  {
   "attachments": {},
   "cell_type": "markdown",
   "metadata": {},
   "source": [
    "Verificación"
   ]
  },
  {
   "cell_type": "code",
   "execution_count": 342,
   "metadata": {},
   "outputs": [
    {
     "data": {
      "text/plain": [
       "{'pais': 'Italy', 'cantidad': 2165}"
      ]
     },
     "execution_count": 342,
     "metadata": {},
     "output_type": "execute_result"
    }
   ],
   "source": [
    "peliculas_pais('Italy')\n"
   ]
  },
  {
   "cell_type": "code",
   "execution_count": 343,
   "metadata": {},
   "outputs": [
    {
     "data": {
      "text/html": [
       "<div>\n",
       "<style scoped>\n",
       "    .dataframe tbody tr th:only-of-type {\n",
       "        vertical-align: middle;\n",
       "    }\n",
       "\n",
       "    .dataframe tbody tr th {\n",
       "        vertical-align: top;\n",
       "    }\n",
       "\n",
       "    .dataframe thead th {\n",
       "        text-align: right;\n",
       "    }\n",
       "</style>\n",
       "<table border=\"1\" class=\"dataframe\">\n",
       "  <thead>\n",
       "    <tr style=\"text-align: right;\">\n",
       "      <th></th>\n",
       "      <th>id_movie</th>\n",
       "      <th>id_production_countries</th>\n",
       "    </tr>\n",
       "  </thead>\n",
       "  <tbody>\n",
       "    <tr>\n",
       "      <th>19</th>\n",
       "      <td>1408</td>\n",
       "      <td>IT</td>\n",
       "    </tr>\n",
       "    <tr>\n",
       "      <th>34</th>\n",
       "      <td>16420</td>\n",
       "      <td>IT</td>\n",
       "    </tr>\n",
       "    <tr>\n",
       "      <th>70</th>\n",
       "      <td>49133</td>\n",
       "      <td>IT</td>\n",
       "    </tr>\n",
       "    <tr>\n",
       "      <th>80</th>\n",
       "      <td>11010</td>\n",
       "      <td>IT</td>\n",
       "    </tr>\n",
       "    <tr>\n",
       "      <th>159</th>\n",
       "      <td>37975</td>\n",
       "      <td>IT</td>\n",
       "    </tr>\n",
       "    <tr>\n",
       "      <th>...</th>\n",
       "      <td>...</td>\n",
       "      <td>...</td>\n",
       "    </tr>\n",
       "    <tr>\n",
       "      <th>55229</th>\n",
       "      <td>68063</td>\n",
       "      <td>IT</td>\n",
       "    </tr>\n",
       "    <tr>\n",
       "      <th>55347</th>\n",
       "      <td>104308</td>\n",
       "      <td>IT</td>\n",
       "    </tr>\n",
       "    <tr>\n",
       "      <th>55451</th>\n",
       "      <td>40467</td>\n",
       "      <td>IT</td>\n",
       "    </tr>\n",
       "    <tr>\n",
       "      <th>55463</th>\n",
       "      <td>317389</td>\n",
       "      <td>IT</td>\n",
       "    </tr>\n",
       "    <tr>\n",
       "      <th>55480</th>\n",
       "      <td>200066</td>\n",
       "      <td>IT</td>\n",
       "    </tr>\n",
       "  </tbody>\n",
       "</table>\n",
       "<p>2165 rows × 2 columns</p>\n",
       "</div>"
      ],
      "text/plain": [
       "       id_movie id_production_countries\n",
       "19         1408                      IT\n",
       "34        16420                      IT\n",
       "70        49133                      IT\n",
       "80        11010                      IT\n",
       "159       37975                      IT\n",
       "...         ...                     ...\n",
       "55229     68063                      IT\n",
       "55347    104308                      IT\n",
       "55451     40467                      IT\n",
       "55463    317389                      IT\n",
       "55480    200066                      IT\n",
       "\n",
       "[2165 rows x 2 columns]"
      ]
     },
     "execution_count": 343,
     "metadata": {},
     "output_type": "execute_result"
    }
   ],
   "source": [
    "movies_production_countries[movies_production_countries['id_production_countries']=='IT']"
   ]
  },
  {
   "attachments": {},
   "cell_type": "markdown",
   "metadata": {},
   "source": [
    "Función productoras"
   ]
  },
  {
   "cell_type": "code",
   "execution_count": 344,
   "metadata": {},
   "outputs": [],
   "source": [
    "# @app.get('/productoras/{productora}')\n",
    "def productoras(productora:str):\n",
    "    '''Ingresas la productora, retornando la ganancia toal y la cantidad de peliculas que produjeron'''\n",
    "    id = production_companies[production_companies.name == productora].iloc[0,0]\n",
    "    cantidad  = len(movies_production_companies[movies_production_companies['id_production_companies'] == id])\n",
    "    lista_de_pelis = movies_production_companies['id_movie'][movies_production_companies['id_production_companies']==id].to_list()\n",
    "    ganancia_total = movies['revenue'][movies['id_movie'].isin(lista_de_pelis)].sum()\n",
    "\n",
    "    return {'productora':productora, 'ganancia_total':ganancia_total, 'cantidad':cantidad}"
   ]
  },
  {
   "attachments": {},
   "cell_type": "markdown",
   "metadata": {},
   "source": [
    "Verificación"
   ]
  },
  {
   "cell_type": "code",
   "execution_count": 345,
   "metadata": {},
   "outputs": [
    {
     "data": {
      "text/html": [
       "<div>\n",
       "<style scoped>\n",
       "    .dataframe tbody tr th:only-of-type {\n",
       "        vertical-align: middle;\n",
       "    }\n",
       "\n",
       "    .dataframe tbody tr th {\n",
       "        vertical-align: top;\n",
       "    }\n",
       "\n",
       "    .dataframe thead th {\n",
       "        text-align: right;\n",
       "    }\n",
       "</style>\n",
       "<table border=\"1\" class=\"dataframe\">\n",
       "  <thead>\n",
       "    <tr style=\"text-align: right;\">\n",
       "      <th></th>\n",
       "      <th>id</th>\n",
       "      <th>name</th>\n",
       "    </tr>\n",
       "  </thead>\n",
       "  <tbody>\n",
       "    <tr>\n",
       "      <th>23686</th>\n",
       "      <td>19653</td>\n",
       "      <td>Sine Olivia</td>\n",
       "    </tr>\n",
       "    <tr>\n",
       "      <th>23687</th>\n",
       "      <td>88753</td>\n",
       "      <td>Yermoliev</td>\n",
       "    </tr>\n",
       "  </tbody>\n",
       "</table>\n",
       "</div>"
      ],
      "text/plain": [
       "          id         name\n",
       "23686  19653  Sine Olivia\n",
       "23687  88753    Yermoliev"
      ]
     },
     "execution_count": 345,
     "metadata": {},
     "output_type": "execute_result"
    }
   ],
   "source": [
    "production_companies.tail(2)"
   ]
  },
  {
   "cell_type": "code",
   "execution_count": 346,
   "metadata": {},
   "outputs": [
    {
     "data": {
      "text/plain": [
       "{'productora': 'Yermoliev', 'ganancia_total': 0.0, 'cantidad': 1}"
      ]
     },
     "execution_count": 346,
     "metadata": {},
     "output_type": "execute_result"
    }
   ],
   "source": [
    "productoras('Yermoliev')"
   ]
  },
  {
   "cell_type": "code",
   "execution_count": 347,
   "metadata": {},
   "outputs": [
    {
     "data": {
      "text/html": [
       "<div>\n",
       "<style scoped>\n",
       "    .dataframe tbody tr th:only-of-type {\n",
       "        vertical-align: middle;\n",
       "    }\n",
       "\n",
       "    .dataframe tbody tr th {\n",
       "        vertical-align: top;\n",
       "    }\n",
       "\n",
       "    .dataframe thead th {\n",
       "        text-align: right;\n",
       "    }\n",
       "</style>\n",
       "<table border=\"1\" class=\"dataframe\">\n",
       "  <thead>\n",
       "    <tr style=\"text-align: right;\">\n",
       "      <th></th>\n",
       "      <th>id_movie</th>\n",
       "      <th>id_production_companies</th>\n",
       "    </tr>\n",
       "  </thead>\n",
       "  <tbody>\n",
       "    <tr>\n",
       "      <th>82236</th>\n",
       "      <td>227506</td>\n",
       "      <td>88753</td>\n",
       "    </tr>\n",
       "  </tbody>\n",
       "</table>\n",
       "</div>"
      ],
      "text/plain": [
       "       id_movie  id_production_companies\n",
       "82236    227506                    88753"
      ]
     },
     "execution_count": 347,
     "metadata": {},
     "output_type": "execute_result"
    }
   ],
   "source": [
    "movies_production_companies[movies_production_companies['id_production_companies']==88753]"
   ]
  },
  {
   "cell_type": "code",
   "execution_count": 348,
   "metadata": {},
   "outputs": [
    {
     "data": {
      "text/html": [
       "<div>\n",
       "<style scoped>\n",
       "    .dataframe tbody tr th:only-of-type {\n",
       "        vertical-align: middle;\n",
       "    }\n",
       "\n",
       "    .dataframe tbody tr th {\n",
       "        vertical-align: top;\n",
       "    }\n",
       "\n",
       "    .dataframe thead th {\n",
       "        text-align: right;\n",
       "    }\n",
       "</style>\n",
       "<table border=\"1\" class=\"dataframe\">\n",
       "  <thead>\n",
       "    <tr style=\"text-align: right;\">\n",
       "      <th></th>\n",
       "      <th>id_movie</th>\n",
       "      <th>id_collection</th>\n",
       "      <th>title</th>\n",
       "      <th>tagline</th>\n",
       "      <th>overview</th>\n",
       "      <th>original_language</th>\n",
       "      <th>runtime</th>\n",
       "      <th>status</th>\n",
       "      <th>release_date</th>\n",
       "      <th>release_year</th>\n",
       "      <th>popularity</th>\n",
       "      <th>vote_average</th>\n",
       "      <th>budget</th>\n",
       "      <th>revenue</th>\n",
       "      <th>return</th>\n",
       "    </tr>\n",
       "  </thead>\n",
       "  <tbody>\n",
       "    <tr>\n",
       "      <th>45344</th>\n",
       "      <td>227506</td>\n",
       "      <td>NaN</td>\n",
       "      <td>Satan Triumphant</td>\n",
       "      <td>NaN</td>\n",
       "      <td>In a small town live two brothers, one a minis...</td>\n",
       "      <td>en</td>\n",
       "      <td>87.0</td>\n",
       "      <td>Released</td>\n",
       "      <td>1917-10-21</td>\n",
       "      <td>1917.0</td>\n",
       "      <td>0.003503</td>\n",
       "      <td>0.0</td>\n",
       "      <td>0.0</td>\n",
       "      <td>0.0</td>\n",
       "      <td>0.0</td>\n",
       "    </tr>\n",
       "  </tbody>\n",
       "</table>\n",
       "</div>"
      ],
      "text/plain": [
       "       id_movie  id_collection             title tagline  \\\n",
       "45344    227506            NaN  Satan Triumphant     NaN   \n",
       "\n",
       "                                                overview original_language  \\\n",
       "45344  In a small town live two brothers, one a minis...                en   \n",
       "\n",
       "       runtime    status release_date  release_year  popularity  vote_average  \\\n",
       "45344     87.0  Released   1917-10-21        1917.0    0.003503           0.0   \n",
       "\n",
       "       budget  revenue  return  \n",
       "45344     0.0      0.0     0.0  "
      ]
     },
     "execution_count": 348,
     "metadata": {},
     "output_type": "execute_result"
    }
   ],
   "source": [
    "movies[movies['id_movie']==227506]"
   ]
  },
  {
   "attachments": {},
   "cell_type": "markdown",
   "metadata": {},
   "source": [
    "Función retorno"
   ]
  },
  {
   "cell_type": "code",
   "execution_count": 349,
   "metadata": {},
   "outputs": [],
   "source": [
    "# @app.get('/retorno/{pelicula}')\n",
    "def retorno(pelicula:str):\n",
    "    '''Ingresas la pelicula, retornando la inversion, la ganancia, el retorno y el año en el que se lanzo'''\n",
    "    inversion = movies[movies.title == pelicula].iloc[0,12] # budget\n",
    "    ganacia = movies[movies.title == pelicula].iloc[0,13] # revenue\n",
    "    retorno = movies[movies.title == pelicula].iloc[0,14] # return\n",
    "    anio_lanzamiento = movies[movies.title == pelicula].iloc[0,9] # release_year\n",
    "    return {'pelicula':pelicula, 'inversion':inversion, 'ganacia':ganacia,'retorno':retorno, 'anio':anio_lanzamiento}\n"
   ]
  },
  {
   "attachments": {},
   "cell_type": "markdown",
   "metadata": {},
   "source": [
    "Verificación"
   ]
  },
  {
   "cell_type": "code",
   "execution_count": 350,
   "metadata": {},
   "outputs": [
    {
     "name": "stdout",
     "output_type": "stream",
     "text": [
      "<class 'pandas.core.frame.DataFrame'>\n",
      "RangeIndex: 45346 entries, 0 to 45345\n",
      "Data columns (total 15 columns):\n",
      " #   Column             Non-Null Count  Dtype  \n",
      "---  ------             --------------  -----  \n",
      " 0   id_movie           45346 non-null  int64  \n",
      " 1   id_collection      4485 non-null   float64\n",
      " 2   title              45346 non-null  object \n",
      " 3   tagline            20387 non-null  object \n",
      " 4   overview           44405 non-null  object \n",
      " 5   original_language  45335 non-null  object \n",
      " 6   runtime            45100 non-null  float64\n",
      " 7   status             45266 non-null  object \n",
      " 8   release_date       45346 non-null  object \n",
      " 9   release_year       45346 non-null  float64\n",
      " 10  popularity         45346 non-null  float64\n",
      " 11  vote_average       45346 non-null  float64\n",
      " 12  budget             45346 non-null  float64\n",
      " 13  revenue            45346 non-null  float64\n",
      " 14  return             45346 non-null  float64\n",
      "dtypes: float64(8), int64(1), object(6)\n",
      "memory usage: 5.2+ MB\n"
     ]
    }
   ],
   "source": [
    "movies.info()"
   ]
  },
  {
   "cell_type": "code",
   "execution_count": 351,
   "metadata": {},
   "outputs": [
    {
     "data": {
      "text/plain": [
       "{'pelicula': 'Jumanji',\n",
       " 'inversion': 65000000.0,\n",
       " 'ganacia': 262797249.0,\n",
       " 'retorno': 0.2473389666267016,\n",
       " 'anio': 1995.0}"
      ]
     },
     "execution_count": 351,
     "metadata": {},
     "output_type": "execute_result"
    }
   ],
   "source": [
    "retorno('Jumanji')"
   ]
  },
  {
   "cell_type": "code",
   "execution_count": 352,
   "metadata": {},
   "outputs": [
    {
     "data": {
      "text/html": [
       "<div>\n",
       "<style scoped>\n",
       "    .dataframe tbody tr th:only-of-type {\n",
       "        vertical-align: middle;\n",
       "    }\n",
       "\n",
       "    .dataframe tbody tr th {\n",
       "        vertical-align: top;\n",
       "    }\n",
       "\n",
       "    .dataframe thead th {\n",
       "        text-align: right;\n",
       "    }\n",
       "</style>\n",
       "<table border=\"1\" class=\"dataframe\">\n",
       "  <thead>\n",
       "    <tr style=\"text-align: right;\">\n",
       "      <th></th>\n",
       "      <th>id_movie</th>\n",
       "      <th>id_collection</th>\n",
       "      <th>title</th>\n",
       "      <th>tagline</th>\n",
       "      <th>overview</th>\n",
       "      <th>original_language</th>\n",
       "      <th>runtime</th>\n",
       "      <th>status</th>\n",
       "      <th>release_date</th>\n",
       "      <th>release_year</th>\n",
       "      <th>popularity</th>\n",
       "      <th>vote_average</th>\n",
       "      <th>budget</th>\n",
       "      <th>revenue</th>\n",
       "      <th>return</th>\n",
       "    </tr>\n",
       "  </thead>\n",
       "  <tbody>\n",
       "    <tr>\n",
       "      <th>0</th>\n",
       "      <td>862</td>\n",
       "      <td>10194.0</td>\n",
       "      <td>Toy Story</td>\n",
       "      <td>NaN</td>\n",
       "      <td>Led by Woody, Andy's toys live happily in his ...</td>\n",
       "      <td>en</td>\n",
       "      <td>81.0</td>\n",
       "      <td>Released</td>\n",
       "      <td>1995-10-30</td>\n",
       "      <td>1995.0</td>\n",
       "      <td>21.946943</td>\n",
       "      <td>7.7</td>\n",
       "      <td>30000000.0</td>\n",
       "      <td>373554033.0</td>\n",
       "      <td>0.080310</td>\n",
       "    </tr>\n",
       "    <tr>\n",
       "      <th>1</th>\n",
       "      <td>8844</td>\n",
       "      <td>NaN</td>\n",
       "      <td>Jumanji</td>\n",
       "      <td>Roll the dice and unleash the excitement!</td>\n",
       "      <td>When siblings Judy and Peter discover an encha...</td>\n",
       "      <td>en</td>\n",
       "      <td>104.0</td>\n",
       "      <td>Released</td>\n",
       "      <td>1995-12-15</td>\n",
       "      <td>1995.0</td>\n",
       "      <td>17.015539</td>\n",
       "      <td>6.9</td>\n",
       "      <td>65000000.0</td>\n",
       "      <td>262797249.0</td>\n",
       "      <td>0.247339</td>\n",
       "    </tr>\n",
       "    <tr>\n",
       "      <th>2</th>\n",
       "      <td>15602</td>\n",
       "      <td>119050.0</td>\n",
       "      <td>Grumpier Old Men</td>\n",
       "      <td>Still Yelling. Still Fighting. Still Ready for...</td>\n",
       "      <td>A family wedding reignites the ancient feud be...</td>\n",
       "      <td>en</td>\n",
       "      <td>101.0</td>\n",
       "      <td>Released</td>\n",
       "      <td>1995-12-22</td>\n",
       "      <td>1995.0</td>\n",
       "      <td>11.712900</td>\n",
       "      <td>6.5</td>\n",
       "      <td>0.0</td>\n",
       "      <td>0.0</td>\n",
       "      <td>0.000000</td>\n",
       "    </tr>\n",
       "    <tr>\n",
       "      <th>3</th>\n",
       "      <td>31357</td>\n",
       "      <td>NaN</td>\n",
       "      <td>Waiting to Exhale</td>\n",
       "      <td>Friends are the people who let you be yourself...</td>\n",
       "      <td>Cheated on, mistreated and stepped on, the wom...</td>\n",
       "      <td>en</td>\n",
       "      <td>127.0</td>\n",
       "      <td>Released</td>\n",
       "      <td>1995-12-22</td>\n",
       "      <td>1995.0</td>\n",
       "      <td>3.859495</td>\n",
       "      <td>6.1</td>\n",
       "      <td>16000000.0</td>\n",
       "      <td>81452156.0</td>\n",
       "      <td>0.196434</td>\n",
       "    </tr>\n",
       "    <tr>\n",
       "      <th>4</th>\n",
       "      <td>11862</td>\n",
       "      <td>96871.0</td>\n",
       "      <td>Father of the Bride Part II</td>\n",
       "      <td>Just When His World Is Back To Normal... He's ...</td>\n",
       "      <td>Just when George Banks has recovered from his ...</td>\n",
       "      <td>en</td>\n",
       "      <td>106.0</td>\n",
       "      <td>Released</td>\n",
       "      <td>1995-02-10</td>\n",
       "      <td>1995.0</td>\n",
       "      <td>8.387519</td>\n",
       "      <td>5.7</td>\n",
       "      <td>0.0</td>\n",
       "      <td>76578911.0</td>\n",
       "      <td>0.000000</td>\n",
       "    </tr>\n",
       "    <tr>\n",
       "      <th>5</th>\n",
       "      <td>949</td>\n",
       "      <td>NaN</td>\n",
       "      <td>Heat</td>\n",
       "      <td>A Los Angeles Crime Saga</td>\n",
       "      <td>Obsessive master thief, Neil McCauley leads a ...</td>\n",
       "      <td>en</td>\n",
       "      <td>170.0</td>\n",
       "      <td>Released</td>\n",
       "      <td>1995-12-15</td>\n",
       "      <td>1995.0</td>\n",
       "      <td>17.924927</td>\n",
       "      <td>7.7</td>\n",
       "      <td>60000000.0</td>\n",
       "      <td>187436818.0</td>\n",
       "      <td>0.320108</td>\n",
       "    </tr>\n",
       "    <tr>\n",
       "      <th>6</th>\n",
       "      <td>11860</td>\n",
       "      <td>NaN</td>\n",
       "      <td>Sabrina</td>\n",
       "      <td>You are cordially invited to the most surprisi...</td>\n",
       "      <td>An ugly duckling having undergone a remarkable...</td>\n",
       "      <td>en</td>\n",
       "      <td>127.0</td>\n",
       "      <td>Released</td>\n",
       "      <td>1995-12-15</td>\n",
       "      <td>1995.0</td>\n",
       "      <td>6.677277</td>\n",
       "      <td>6.2</td>\n",
       "      <td>58000000.0</td>\n",
       "      <td>0.0</td>\n",
       "      <td>0.000000</td>\n",
       "    </tr>\n",
       "    <tr>\n",
       "      <th>7</th>\n",
       "      <td>45325</td>\n",
       "      <td>NaN</td>\n",
       "      <td>Tom and Huck</td>\n",
       "      <td>The Original Bad Boys.</td>\n",
       "      <td>A mischievous young boy, Tom Sawyer, witnesses...</td>\n",
       "      <td>en</td>\n",
       "      <td>97.0</td>\n",
       "      <td>Released</td>\n",
       "      <td>1995-12-22</td>\n",
       "      <td>1995.0</td>\n",
       "      <td>2.561161</td>\n",
       "      <td>5.4</td>\n",
       "      <td>0.0</td>\n",
       "      <td>0.0</td>\n",
       "      <td>0.000000</td>\n",
       "    </tr>\n",
       "    <tr>\n",
       "      <th>8</th>\n",
       "      <td>9091</td>\n",
       "      <td>NaN</td>\n",
       "      <td>Sudden Death</td>\n",
       "      <td>Terror goes into overtime.</td>\n",
       "      <td>International action superstar Jean Claude Van...</td>\n",
       "      <td>en</td>\n",
       "      <td>106.0</td>\n",
       "      <td>Released</td>\n",
       "      <td>1995-12-22</td>\n",
       "      <td>1995.0</td>\n",
       "      <td>5.231580</td>\n",
       "      <td>5.5</td>\n",
       "      <td>35000000.0</td>\n",
       "      <td>64350171.0</td>\n",
       "      <td>0.543899</td>\n",
       "    </tr>\n",
       "    <tr>\n",
       "      <th>9</th>\n",
       "      <td>710</td>\n",
       "      <td>645.0</td>\n",
       "      <td>GoldenEye</td>\n",
       "      <td>No limits. No fears. No substitutes.</td>\n",
       "      <td>James Bond must unmask the mysterious head of ...</td>\n",
       "      <td>en</td>\n",
       "      <td>130.0</td>\n",
       "      <td>Released</td>\n",
       "      <td>1995-11-16</td>\n",
       "      <td>1995.0</td>\n",
       "      <td>14.686036</td>\n",
       "      <td>6.6</td>\n",
       "      <td>58000000.0</td>\n",
       "      <td>352194034.0</td>\n",
       "      <td>0.164682</td>\n",
       "    </tr>\n",
       "  </tbody>\n",
       "</table>\n",
       "</div>"
      ],
      "text/plain": [
       "   id_movie  id_collection                        title  \\\n",
       "0       862        10194.0                    Toy Story   \n",
       "1      8844            NaN                      Jumanji   \n",
       "2     15602       119050.0             Grumpier Old Men   \n",
       "3     31357            NaN            Waiting to Exhale   \n",
       "4     11862        96871.0  Father of the Bride Part II   \n",
       "5       949            NaN                         Heat   \n",
       "6     11860            NaN                      Sabrina   \n",
       "7     45325            NaN                 Tom and Huck   \n",
       "8      9091            NaN                 Sudden Death   \n",
       "9       710          645.0                    GoldenEye   \n",
       "\n",
       "                                             tagline  \\\n",
       "0                                                NaN   \n",
       "1          Roll the dice and unleash the excitement!   \n",
       "2  Still Yelling. Still Fighting. Still Ready for...   \n",
       "3  Friends are the people who let you be yourself...   \n",
       "4  Just When His World Is Back To Normal... He's ...   \n",
       "5                           A Los Angeles Crime Saga   \n",
       "6  You are cordially invited to the most surprisi...   \n",
       "7                             The Original Bad Boys.   \n",
       "8                         Terror goes into overtime.   \n",
       "9               No limits. No fears. No substitutes.   \n",
       "\n",
       "                                            overview original_language  \\\n",
       "0  Led by Woody, Andy's toys live happily in his ...                en   \n",
       "1  When siblings Judy and Peter discover an encha...                en   \n",
       "2  A family wedding reignites the ancient feud be...                en   \n",
       "3  Cheated on, mistreated and stepped on, the wom...                en   \n",
       "4  Just when George Banks has recovered from his ...                en   \n",
       "5  Obsessive master thief, Neil McCauley leads a ...                en   \n",
       "6  An ugly duckling having undergone a remarkable...                en   \n",
       "7  A mischievous young boy, Tom Sawyer, witnesses...                en   \n",
       "8  International action superstar Jean Claude Van...                en   \n",
       "9  James Bond must unmask the mysterious head of ...                en   \n",
       "\n",
       "   runtime    status release_date  release_year  popularity  vote_average  \\\n",
       "0     81.0  Released   1995-10-30        1995.0   21.946943           7.7   \n",
       "1    104.0  Released   1995-12-15        1995.0   17.015539           6.9   \n",
       "2    101.0  Released   1995-12-22        1995.0   11.712900           6.5   \n",
       "3    127.0  Released   1995-12-22        1995.0    3.859495           6.1   \n",
       "4    106.0  Released   1995-02-10        1995.0    8.387519           5.7   \n",
       "5    170.0  Released   1995-12-15        1995.0   17.924927           7.7   \n",
       "6    127.0  Released   1995-12-15        1995.0    6.677277           6.2   \n",
       "7     97.0  Released   1995-12-22        1995.0    2.561161           5.4   \n",
       "8    106.0  Released   1995-12-22        1995.0    5.231580           5.5   \n",
       "9    130.0  Released   1995-11-16        1995.0   14.686036           6.6   \n",
       "\n",
       "       budget      revenue    return  \n",
       "0  30000000.0  373554033.0  0.080310  \n",
       "1  65000000.0  262797249.0  0.247339  \n",
       "2         0.0          0.0  0.000000  \n",
       "3  16000000.0   81452156.0  0.196434  \n",
       "4         0.0   76578911.0  0.000000  \n",
       "5  60000000.0  187436818.0  0.320108  \n",
       "6  58000000.0          0.0  0.000000  \n",
       "7         0.0          0.0  0.000000  \n",
       "8  35000000.0   64350171.0  0.543899  \n",
       "9  58000000.0  352194034.0  0.164682  "
      ]
     },
     "execution_count": 352,
     "metadata": {},
     "output_type": "execute_result"
    }
   ],
   "source": [
    "movies.head(10)"
   ]
  },
  {
   "attachments": {},
   "cell_type": "markdown",
   "metadata": {},
   "source": [
    "Resumen de las funciones"
   ]
  },
  {
   "cell_type": "code",
   "execution_count": 353,
   "metadata": {},
   "outputs": [],
   "source": [
    "# @app.get('/peliculas_mes/{mes}')\n",
    "def peliculas_mes(mes:str):\n",
    "    '''Se ingresa el mes y la funcion retorna la cantidad de peliculas que se estrenaron ese mes historicamente'''\n",
    "    assert mes in ['enero','febrero','marzo','abril','mayo','junio','julio','agosto','septiembre','octubre','noviembre','diciembre'], f'Debe ingresar el nombre del mes en español. Ej: \"Septiembre\"'\n",
    "    cantidad  = len(release_date[release_date['month']==mes])\n",
    "    return {'mes':mes, 'cantidad':cantidad}\n",
    "\n",
    "\n",
    "# @app.get('/peliculas_dis/{dis}')\n",
    "def peliculas_dia(dia:str):\n",
    "    '''Se ingresa el dia y la funcion retorna la cantidad de peliculas que se estrebaron ese dia historicamente'''\n",
    "    assert dia in ['lunes','martes','miercoles','jueves', 'viernes', 'sabado', 'domingo'], f'Debe ingresar el nombre del día en español(sin tilde). Ej: \"miercoles\"'\n",
    "    cantidad  = len(release_date[release_date['day_name']==dia])\n",
    "    return {'dia':dia, 'cantidad':cantidad}\n",
    "\n",
    "\n",
    "# @app.get('/franquicia/{franquicia}')\n",
    "def franquicia(franquicia:str):\n",
    "    '''Se ingresa la franquicia, retornando la cantidad de peliculas, ganancia total y promedio'''\n",
    "    id = collections[collections.name == franquicia].iloc[0,0]\n",
    "    cantidad  = len(movies[movies['id_collection'] == id])\n",
    "    ganancia_total = movies['revenue'][movies['id_collection']==id].sum()\n",
    "    ganancia_promedio = movies['revenue'][movies['id_collection']==id].mean()\n",
    "    return {'franquicia':franquicia, 'cantidad':cantidad,'ganancia_total':ganancia_total, 'ganancia_promedio':ganancia_promedio}\n",
    "\n",
    "\n",
    "# @app.get('/peliculas_pais/{pais}')\n",
    "def peliculas_pais(pais:str):\n",
    "    '''Ingresas el pais, retornando la cantidad de peliculas producidas en el mismo'''\n",
    "    assert pais in production_countries['name'].unique(), f'Error al ingresar el pais. Intente nuevamente. (Ej: \"Germany)\"'\n",
    "    id = production_countries[production_countries.name == pais].iloc[0,0]\n",
    "    cantidad  = len(movies_production_countries[movies_production_countries['id_production_countries']==id])\n",
    "    return {'pais':pais, 'cantidad':cantidad}\n",
    "\n",
    "\n",
    "# @app.get('/productoras/{productora}')\n",
    "def productoras(productora:str):\n",
    "    '''Ingresas la productora, retornando la ganancia toal y la cantidad de peliculas que produjeron'''\n",
    "    id = production_companies[production_companies.name == productora].iloc[0,0]\n",
    "    cantidad  = len(movies_production_companies[movies_production_companies['id_production_companies'] == id])\n",
    "    lista_de_pelis = movies_production_companies['id_movie'][movies_production_companies['id_production_companies']==id].to_list()\n",
    "    ganancia_total = movies['revenue'][movies['id_movie'].isin(lista_de_pelis)].sum()\n",
    "\n",
    "    return {'productora':productora, 'ganancia_total':ganancia_total, 'cantidad':cantidad}\n",
    "\n",
    "\n",
    "# @app.get('/retorno/{pelicula}')\n",
    "def retorno(pelicula:str):\n",
    "    '''Ingresas la pelicula, retornando la inversion, la ganancia, el retorno y el año en el que se lanzo'''\n",
    "    inversion = movies[movies.title == pelicula].iloc[0,12] # budget\n",
    "    ganacia = movies[movies.title == pelicula].iloc[0,13] # revenue\n",
    "    retorno = movies[movies.title == pelicula].iloc[0,14] # return\n",
    "    anio_lanzamiento = movies[movies.title == pelicula].iloc[0,9] # release_year\n",
    "    return {'pelicula':pelicula, 'inversion':inversion, 'ganacia':ganacia,'retorno':retorno, 'anio':anio_lanzamiento}\n",
    "\n",
    "# # ML\n",
    "# @app.get('/recomendacion/{titulo}')\n",
    "# def recomendacion(titulo:str):\n",
    "#     '''Ingresas un nombre de pelicula y te recomienda las similares en una lista'''\n",
    "#     return {'lista recomendada': respuesta}"
   ]
  }
 ],
 "metadata": {
  "kernelspec": {
   "display_name": "Python 3",
   "language": "python",
   "name": "python3"
  },
  "language_info": {
   "codemirror_mode": {
    "name": "ipython",
    "version": 3
   },
   "file_extension": ".py",
   "mimetype": "text/x-python",
   "name": "python",
   "nbconvert_exporter": "python",
   "pygments_lexer": "ipython3",
   "version": "3.11.0"
  },
  "orig_nbformat": 4
 },
 "nbformat": 4,
 "nbformat_minor": 2
}
