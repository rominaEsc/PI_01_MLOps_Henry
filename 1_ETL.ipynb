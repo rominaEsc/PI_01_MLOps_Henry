{
 "cells": [
  {
   "cell_type": "code",
   "execution_count": 169,
   "metadata": {},
   "outputs": [],
   "source": [
    "#py -m pip install faltten_json\n",
    "import pandas as pd\n",
    "import numpy as np\n",
    "import ast\n",
    "import json\n",
    " "
   ]
  },
  {
   "cell_type": "code",
   "execution_count": 170,
   "metadata": {},
   "outputs": [],
   "source": [
    "# Carga de datos\n",
    "movies = pd.read_csv('movies_dataset.csv',low_memory=False)"
   ]
  },
  {
   "cell_type": "code",
   "execution_count": 171,
   "metadata": {},
   "outputs": [],
   "source": [
    "# Quitamos las columnas que no se van a utilizar\n",
    "movies = movies.drop(columns= ['video', 'imdb_id','adult','original_title','vote_count','poster_path', 'homepage'])\n",
    "\n",
    "# Eliminamos las filas que contienen errores\n",
    "movies = movies.drop(movies[movies['budget'].str.contains('jpg')].index)\n",
    "\n",
    "# Eliminamos pelis duplicadas\n",
    "movies =movies.drop_duplicates(subset=['id'])\n",
    "\n",
    "# Generamos la categoria none para las peliculas que no tienen un genero especificado\n",
    "movies['genres'] = movies[['genres']].replace(\"[]\", \"[{'id': 0, 'name': 'None'}]\")\n",
    "\n",
    "# Eliminamos los valores nulos de release_date\n",
    "movies = movies.dropna(subset='release_date')\n",
    "\n",
    "# Cambiamos los tipos de datos de las columnas\n",
    "movies = movies.astype({'budget': 'float64','id': 'int','popularity':'float64'}, copy=False, errors='raise')\n",
    "\n",
    "# Cambiamos los tipos de datos de las columnas\n",
    "movies['release_date'] = pd.to_datetime(movies['release_date'], format='%Y-%m-%d',yearfirst=True, errors='coerce')\n",
    "\n",
    "# Creamos la columna 'release_year'\n",
    "movies['release_year'] = movies['release_date'].dt.year\n",
    "movies = movies.astype({'release_year': 'float64'}, copy=False, errors='raise')\n",
    "\n",
    "# Rellenamos los valores nulos de los campos revenue, budget con el número 0\n",
    "movies['budget'].fillna(0, inplace=True)\n",
    "movies['revenue'].fillna(0, inplace=True)\n",
    "\n",
    "# Cambiamos el nombre de la columna id por id_movie\n",
    "movies = movies.rename({'id': 'id_movie'}, axis=1)\n"
   ]
  },
  {
   "attachments": {},
   "cell_type": "markdown",
   "metadata": {},
   "source": [
    "------------------"
   ]
  },
  {
   "cell_type": "code",
   "execution_count": 172,
   "metadata": {},
   "outputs": [],
   "source": [
    "# Función que permite calcular el return\n",
    "def ret(df,col1,col2):\n",
    "    if df[col1] == 0:\n",
    "        out = 0\n",
    "    else:    \n",
    "        out = df[col2] / df[col1]\n",
    "    return out\n",
    "\n",
    "# creamos la columna return\n",
    "movies['return'] = movies.apply(ret,axis=1,args={'budget','revenue'})"
   ]
  },
  {
   "attachments": {},
   "cell_type": "markdown",
   "metadata": {},
   "source": [
    "----------------"
   ]
  },
  {
   "cell_type": "code",
   "execution_count": 173,
   "metadata": {},
   "outputs": [],
   "source": [
    "## TABLA LANZAMIENTOS\n",
    "\n",
    "release_date_table = movies[['id_movie','release_date']].copy()\n",
    "\n",
    "release_date_table.loc['year'] = movies['release_date'].dt.year\n",
    "\n",
    "release_date_table['month'] = movies['release_date'].dt.month_name(locale='es_ES.UTF-8').str.lower()\n",
    "\n",
    "release_date_table['day_num'] = movies['release_date'].dt.day\n",
    "\n",
    "release_date_table['day_name'] = movies['release_date'].dt.day_name(locale='es_ES.UTF-8').str.lower()\n",
    "release_date_table['day_name'] = release_date_table['day_name'].replace({'miã©rcoles': 'miercoles', 'sã¡bado': 'sabado'})\n",
    "\n",
    "#crear el csv \n",
    "release_date_table.to_csv(\"data/release_date.csv\",index=False)\n",
    "\n",
    "\n",
    "# release_date_table"
   ]
  },
  {
   "attachments": {},
   "cell_type": "markdown",
   "metadata": {},
   "source": [
    "-----"
   ]
  },
  {
   "cell_type": "code",
   "execution_count": 174,
   "metadata": {},
   "outputs": [],
   "source": [
    "# TABLA COLLECTIONS\n",
    "\n",
    "# Extrae los datos anidados en la columna \"belongs_to_collection\"\n",
    "collections = pd.json_normalize(data=movies['belongs_to_collection'].dropna().apply(eval))\n",
    "\n",
    "collections = pd.DataFrame(collections)\n",
    "\n",
    "# Cambiamos el nombre de la columna id por id_collection y le asignamos type =int\n",
    "collections = collections[['id','name']]\n",
    "collections = collections.rename({'id':'id_collection'},axis=1)\n",
    "\n",
    "collections = collections.astype({'id_collection': 'int'}, copy=False, errors='raise')\n",
    "\n",
    "# # Eliminamos filas duplicadas\n",
    "collections = collections.drop_duplicates()\n",
    "\n",
    "# #crear el csv \n",
    "collections.to_csv(\"data/collections.csv\",index=False)\n"
   ]
  },
  {
   "cell_type": "code",
   "execution_count": 175,
   "metadata": {},
   "outputs": [],
   "source": [
    "# cremaos la columna 'id_collecction', extraemos sus valores de la columna belongs_to_collection y luego eliminamos esta última.\n",
    "\n",
    "# # Definimos una expresión regular para extraer el id del campo \"id\" de la columna belongs_to_collection\n",
    "regex = r\"'id':\\s*([\\d]+)\"\n",
    "\n",
    "# # Utilizamos la función \"str.extract\" para extraer el id y guardarlo en una nueva columna 'id_collection'\n",
    "movies['id_collection'] = movies['belongs_to_collection'].str.extract(regex)\n",
    "\n",
    "# # moverla al principio para comparar\n",
    "# movies = movies.insert(0, 'id_collection', movies.pop('id_collection'))\n",
    "\n",
    "# Eliminamos la columna 'belongs_to_collection'\n",
    "movies.drop(['belongs_to_collection'], axis= 'columns', inplace=True)\n",
    "\n",
    "# movies.head(2)"
   ]
  },
  {
   "attachments": {},
   "cell_type": "markdown",
   "metadata": {},
   "source": [
    "----------------"
   ]
  },
  {
   "cell_type": "code",
   "execution_count": 176,
   "metadata": {},
   "outputs": [],
   "source": [
    "# TABLA GENRES\n",
    "\n",
    "genres = movies['genres'].apply(ast.literal_eval) # Convertir el string a lista de diccionarios\n",
    "genres = pd.DataFrame([dict(x) for x in genres.sum()])[['id', 'name']]\n",
    "genres = genres.drop_duplicates()\n",
    "genres.to_csv(\"data/genres.csv\",index=False)\n",
    "\n",
    "\n",
    "\n",
    "### TABLA MOVIES_GENRES\n",
    "movies_genres = movies[['id_movie','genres']].copy()\n",
    "\n",
    "# movies_genres['genres'] = movies_genres[['genres']].replace(\"[]\", \"[{'id': 0, 'name': 'None'}]\")  # ya esta arriba\n",
    "\n",
    "movies_genres['genres'] = movies_genres['genres'].apply(ast.literal_eval)\n",
    "\n",
    "# # Aplicamos explode() para crear filas adicionales para cada elemento en la lista genres\n",
    "movies_genres = movies_genres.explode('genres')\n",
    "\n",
    "# # Extraer el valor de id_genre de cada elemento en la lista genres\n",
    "movies_genres['id_genre'] = movies_genres['genres'].apply(lambda x: x['id'])\n",
    "\n",
    "# Eliminar la columna genres\n",
    "movies_genres = movies_genres.drop('genres', axis=1)\n",
    "\n",
    "# Eliminamos la columna production_companies de la tabla movies\n",
    "movies = movies.drop('genres', axis=1)\n",
    "\n",
    "\n"
   ]
  },
  {
   "cell_type": "code",
   "execution_count": 177,
   "metadata": {},
   "outputs": [],
   "source": [
    "### TABLA MOVIES_production_companies\n",
    "movies_production_companies = movies[['id_movie','production_companies']].copy()\n",
    "\n",
    "#reemplazamos los valores nulos por \"[{'name': 'None', 'id': 0}]\"\n",
    "movies_production_companies['production_companies'] = movies_production_companies[['production_companies']].replace(\"[]\", \"[{'name': 'None', 'id': 0}]\")\n",
    "\n",
    "movies_production_companies['production_companies'] = movies_production_companies['production_companies'].apply(ast.literal_eval)\n",
    "\n",
    "# Aplicamos explode() para crear filas adicionales para cada elemento en la lista production_companies\n",
    "movies_production_companies = movies_production_companies.explode('production_companies')\n",
    "\n",
    "# Extraemos el valor de id_production_companies de cada elemento en la lista production_companies\n",
    "movies_production_companies['id_production_companies'] = movies_production_companies['production_companies'].apply(lambda x: x['id'])\n",
    "\n",
    "# # Eliminar la columna production_companies\n",
    "movies_production_companies = movies_production_companies.drop('production_companies', axis=1)\n",
    "\n",
    "# Creamos el csv\n",
    "movies_production_companies.to_csv(\"data/movies_production_companies.csv\",index=False)\n",
    "\n",
    "\n",
    "# TABLA production_companies\n",
    "\n",
    "production_companies = movies['production_companies'].apply(ast.literal_eval) # Convertir el string a lista de diccionarios\n",
    "production_companies = pd.DataFrame([dict(x) for x in production_companies.sum()])[['id', 'name']]\n",
    "production_companies = production_companies.drop_duplicates()\n",
    "production_companies.to_csv(\"data/production_companies.csv\",index=False)\n",
    "\n",
    "\n",
    "# Eliminamos la columna production_companies de la tabla movies\n",
    "movies = movies.drop('production_companies', axis=1)\n",
    "\n"
   ]
  },
  {
   "cell_type": "code",
   "execution_count": 178,
   "metadata": {},
   "outputs": [],
   "source": [
    "### TABLA MOVIES_production_countries\n",
    "\n",
    "movies_production_countries = movies[['id_movie','production_countries']].copy()\n",
    "\n",
    "# Reemplazamos los valores nulos por \"[{'iso_3166_1': 'none', 'name': 'none'}]\"\n",
    "movies_production_countries['production_countries'] = movies_production_countries[['production_countries']].replace(\"[]\", \"[{'iso_3166_1': 'none', 'name': 'none'}]\")  # ya esta arriba\n",
    "movies_production_countries['production_countries'] = movies_production_countries['production_countries'].apply(ast.literal_eval)\n",
    "\n",
    "# Aplicamos explode() para crear filas adicionales para cada elemento en la lista production_countries\n",
    "movies_production_countries = movies_production_countries.explode('production_countries')\n",
    "\n",
    "# Extraer el valor de id_production_countries de cada elemento en la lista production_countries\n",
    "movies_production_countries['id_production_countries'] = movies_production_countries['production_countries'].apply(lambda x: x['iso_3166_1'])\n",
    "\n",
    "# Eliminar la columna genres\n",
    "movies_production_countries = movies_production_countries.drop('production_countries', axis=1)\n",
    "\n",
    "# Creamos el csv\n",
    "movies_production_countries.to_csv(\"data/movies_production_countries.csv\",index=False)\n",
    "\n",
    "\n",
    "### TABLA production_countries\n",
    "\n",
    "production_countries = movies['production_countries'].apply(ast.literal_eval) # Convertir el string a lista de diccionarios\n",
    "production_countries = pd.DataFrame([dict(x) for x in production_countries.sum()])[['iso_3166_1', 'name']]\n",
    "production_countries = production_countries.drop_duplicates()\n",
    "\n",
    "# Creamos el csv\n",
    "production_countries.to_csv(\"data/production_countries.csv\",index=False)\n",
    "\n",
    "# Eliminamos la columna production_countries de la tabla movies\n",
    "movies = movies.drop('production_countries', axis=1)\n"
   ]
  },
  {
   "cell_type": "code",
   "execution_count": 179,
   "metadata": {},
   "outputs": [],
   "source": [
    "### TABLA MOVIES_spoken_languages\n",
    "\n",
    "movies_spoken_languages = movies[['id_movie','spoken_languages']].copy()\n",
    "\n",
    "# Reemplazamos los valores nulos por \"[{'iso_639_1': 'none', 'name': 'none'}]\"\n",
    "movies_spoken_languages['spoken_languages'] = movies_spoken_languages[['spoken_languages']].replace(\"[]\", \"[{'iso_639_1': 'none', 'name': 'none'}]\")  \n",
    "movies_spoken_languages['spoken_languages'] = movies_spoken_languages['spoken_languages'].apply(ast.literal_eval)\n",
    "\n",
    "# Aplicamos explode() para crear filas adicionales para cada elemento en la lista genres\n",
    "movies_spoken_languages = movies_spoken_languages.explode('spoken_languages')\n",
    "\n",
    "# Extraer el valor de id_genre de cada elemento en la lista genres\n",
    "movies_spoken_languages['id_spoken_languages'] = movies_spoken_languages['spoken_languages'].apply(lambda x: x['iso_639_1'])\n",
    "\n",
    "# Eliminar la columna spoken_languages\n",
    "movies_spoken_languages = movies_spoken_languages.drop('spoken_languages', axis=1)\n",
    "\n",
    "# Creamos el csv\n",
    "movies_spoken_languages.to_csv(\"data/movies_spoken_languages.csv\",index=False)\n",
    "\n",
    "\n",
    "### TABLA spoken_languages\n",
    "\n",
    "spoken_languages = movies['spoken_languages'].apply(ast.literal_eval) # Convertir el string a lista de diccionarios\n",
    "spoken_languages = pd.DataFrame([dict(x) for x in spoken_languages.sum()])[['iso_639_1', 'name']]\n",
    "spoken_languages = spoken_languages.drop_duplicates()\n",
    "\n",
    "# Creamos el csv\n",
    "spoken_languages.to_csv(\"data/spoken_languages.csv\",index=False)\n",
    "\n",
    "\n",
    "# Eliminamos la columna production_countries de la tabla movies\n",
    "movies = movies.drop('spoken_languages', axis=1)\n"
   ]
  },
  {
   "cell_type": "code",
   "execution_count": 180,
   "metadata": {},
   "outputs": [
    {
     "name": "stdout",
     "output_type": "stream",
     "text": [
      "<class 'pandas.core.frame.DataFrame'>\n",
      "Int64Index: 45346 entries, 0 to 45465\n",
      "Data columns (total 15 columns):\n",
      " #   Column             Non-Null Count  Dtype         \n",
      "---  ------             --------------  -----         \n",
      " 0   budget             45346 non-null  float64       \n",
      " 1   id_movie           45346 non-null  int32         \n",
      " 2   original_language  45335 non-null  object        \n",
      " 3   overview           44405 non-null  object        \n",
      " 4   popularity         45346 non-null  float64       \n",
      " 5   release_date       45346 non-null  datetime64[ns]\n",
      " 6   revenue            45346 non-null  float64       \n",
      " 7   runtime            45100 non-null  float64       \n",
      " 8   status             45266 non-null  object        \n",
      " 9   tagline            20387 non-null  object        \n",
      " 10  title              45346 non-null  object        \n",
      " 11  vote_average       45346 non-null  float64       \n",
      " 12  release_year       45346 non-null  float64       \n",
      " 13  return             45346 non-null  float64       \n",
      " 14  id_collection      4485 non-null   object        \n",
      "dtypes: datetime64[ns](1), float64(7), int32(1), object(6)\n",
      "memory usage: 6.4+ MB\n"
     ]
    }
   ],
   "source": [
    "movies.info()"
   ]
  },
  {
   "cell_type": "code",
   "execution_count": 181,
   "metadata": {},
   "outputs": [
    {
     "data": {
      "text/plain": [
       "Index(['budget', 'id_movie', 'original_language', 'overview', 'popularity',\n",
       "       'release_date', 'revenue', 'runtime', 'status', 'tagline', 'title',\n",
       "       'vote_average', 'release_year', 'return', 'id_collection'],\n",
       "      dtype='object')"
      ]
     },
     "execution_count": 181,
     "metadata": {},
     "output_type": "execute_result"
    }
   ],
   "source": [
    "movies.columns"
   ]
  },
  {
   "cell_type": "code",
   "execution_count": 182,
   "metadata": {},
   "outputs": [],
   "source": [
    "movies = movies[['id_movie','id_collection','title','tagline','overview','original_language','runtime','status','release_date','release_year','popularity','vote_average','budget', 'revenue', 'return']]\n",
    "movies.head(2)\n",
    "movies.to_csv(\"data/movies.csv\",index=False)\n"
   ]
  }
 ],
 "metadata": {
  "kernelspec": {
   "display_name": "Python 3",
   "language": "python",
   "name": "python3"
  },
  "language_info": {
   "codemirror_mode": {
    "name": "ipython",
    "version": 3
   },
   "file_extension": ".py",
   "mimetype": "text/x-python",
   "name": "python",
   "nbconvert_exporter": "python",
   "pygments_lexer": "ipython3",
   "version": "3.11.0"
  },
  "orig_nbformat": 4
 },
 "nbformat": 4,
 "nbformat_minor": 2
}
