{
 "cells": [
  {
   "cell_type": "code",
   "execution_count": 77,
   "metadata": {},
   "outputs": [],
   "source": [
    "#py -m pip install faltten_json\n",
    "import pandas as pd\n",
    "import numpy as np\n",
    "import ast\n",
    "import json\n",
    " "
   ]
  },
  {
   "cell_type": "code",
   "execution_count": 78,
   "metadata": {},
   "outputs": [],
   "source": [
    "# Carga de datos\n",
    "movies = pd.read_csv('movies_dataset.csv',low_memory=False)"
   ]
  },
  {
   "cell_type": "code",
   "execution_count": 79,
   "metadata": {},
   "outputs": [],
   "source": [
    "# Quitamos las columnas que no se van a utilizar\n",
    "movies = movies.drop(columns= ['video', 'imdb_id','adult','original_title','vote_count','poster_path', 'homepage'])\n",
    "\n",
    "# Eliminamos las filas que contienen errores\n",
    "movies = movies.drop(movies[movies['budget'].str.contains('jpg')].index)\n",
    "\n",
    "# Eliminamos pelis duplicadas\n",
    "movies =movies.drop_duplicates(subset=['id'])\n",
    "\n",
    "# Generamos la categoria none para las peliculas que no tienen un genero especificado\n",
    "movies['genres'] = movies[['genres']].replace(\"[]\", \"[{'id': 0, 'name': 'None'}]\")\n",
    "\n",
    "# Eliminamos los valores nulos de release_date\n",
    "movies = movies.dropna(subset='release_date')\n",
    "\n",
    "# Cambiamos los tipos de datos de las columnas\n",
    "movies = movies.astype({'budget': 'float64','id': 'int','popularity':'float64'}, copy=False, errors='raise')\n",
    "\n",
    "# Cambiamos los tipos de datos de las columnas\n",
    "movies['release_date'] = pd.to_datetime(movies['release_date'], format='%Y-%m-%d',yearfirst=True, errors='coerce')\n",
    "\n",
    "# Creamos la columna 'release_year'\n",
    "movies['release_year'] = movies['release_date'].dt.year\n",
    "\n",
    "# Rellenamos los valores nulos de los campos revenue, budget con el número 0\n",
    "movies['budget'].fillna(0, inplace=True)\n",
    "movies['revenue'].fillna(0, inplace=True)\n",
    "\n",
    "# Cambiamos el nombre de la columna id por id_movie\n",
    "movies = movies.rename({'id': 'id_movie'}, axis=1)\n"
   ]
  },
  {
   "attachments": {},
   "cell_type": "markdown",
   "metadata": {},
   "source": [
    "------------------"
   ]
  },
  {
   "cell_type": "code",
   "execution_count": 80,
   "metadata": {},
   "outputs": [],
   "source": [
    "# Función que permite calcular el return\n",
    "def ret(df,col1,col2):\n",
    "    if df[col1] == 0:\n",
    "        out = 0\n",
    "    else:    \n",
    "        out = df[col2] / df[col1]\n",
    "    return out\n",
    "\n",
    "# creamos la columna return\n",
    "movies['return'] = movies.apply(ret,axis=1,args={'budget','revenue'})"
   ]
  },
  {
   "attachments": {},
   "cell_type": "markdown",
   "metadata": {},
   "source": [
    "----------------"
   ]
  },
  {
   "cell_type": "code",
   "execution_count": 81,
   "metadata": {},
   "outputs": [],
   "source": [
    "## TABLA LANZAMIENTOS\n",
    "\n",
    "release_date_table = movies[['id_movie','release_date']].copy()\n",
    "\n",
    "release_date_table.loc['year'] = movies['release_date'].dt.year\n",
    "\n",
    "release_date_table['month'] = movies['release_date'].dt.month_name(locale='es_ES.UTF-8').str.lower()\n",
    "\n",
    "release_date_table['day_num'] = movies['release_date'].dt.day\n",
    "\n",
    "release_date_table['day_name'] = movies['release_date'].dt.day_name(locale='es_ES.UTF-8').str.lower()\n",
    "release_date_table['day_name'] = release_date_table['day_name'].replace({'miã©rcoles': 'miercoles', 'sã¡bado': 'sabado'})\n",
    "\n",
    "#crear el csv \n",
    "release_date_table.to_csv(\"release_date.csv\",index=False)\n",
    "\n",
    "\n",
    "# release_date_table"
   ]
  },
  {
   "attachments": {},
   "cell_type": "markdown",
   "metadata": {},
   "source": [
    "-----"
   ]
  },
  {
   "cell_type": "code",
   "execution_count": 82,
   "metadata": {},
   "outputs": [],
   "source": [
    "# TABLA COLLECTIONS\n",
    "\n",
    "# Extrae los datos anidados en la columna \"belongs_to_collection\"\n",
    "collection = pd.json_normalize(data=movies['belongs_to_collection'].dropna().apply(eval))\n",
    "\n",
    "collection = pd.DataFrame(collection)\n",
    "\n",
    "collection = collection[['id','name']]\n",
    "collection = collection.rename({'id':'id_collections'},axis=1)\n",
    "\n",
    "#crear el csv \n",
    "collection.to_csv(\"collection.csv\",index=False)\n",
    "\n",
    "# belongs_to_collection.head()\n",
    "# belongs_to_collection.shape"
   ]
  },
  {
   "cell_type": "code",
   "execution_count": 83,
   "metadata": {},
   "outputs": [],
   "source": [
    "# cremaos la columna 'id_collecction', extraemos sus valores de la columna belongs_to_collection y luego eliminamos esta última.\n",
    "\n",
    "# # Definimos una expresión regular para extraer el id del campo \"id\" de la columna belongs_to_collection\n",
    "regex = r\"'id':\\s*([\\d]+)\"\n",
    "\n",
    "# # Utilizamos la función \"str.extract\" para extraer el id y guardarlo en una nueva columna 'id_collection'\n",
    "movies['id_collection'] = movies['belongs_to_collection'].str.extract(regex)\n",
    "\n",
    "# # moverla al principio para comparar\n",
    "# movies = movies.insert(0, 'id_collection', movies.pop('id_collection'))\n",
    "\n",
    "# Eliminamos la columna 'belongs_to_collection'\n",
    "movies.drop(['belongs_to_collection'], axis= 'columns', inplace=True)\n",
    "\n",
    "# movies.head(2)"
   ]
  },
  {
   "attachments": {},
   "cell_type": "markdown",
   "metadata": {},
   "source": [
    "----------------"
   ]
  },
  {
   "cell_type": "code",
   "execution_count": 84,
   "metadata": {},
   "outputs": [],
   "source": [
    "# TABLA GENRES\n",
    "\n",
    "genres = movies['genres'].apply(ast.literal_eval) # Convertir el string a lista de diccionarios\n",
    "genres = pd.DataFrame([dict(x) for x in genres.sum()])[['id', 'name']]\n",
    "genres = genres.drop_duplicates()\n",
    "genres.to_csv(\"generos.csv\",index=False)\n",
    "\n",
    "\n",
    "\n",
    "### TABLA MOVIES_GENRES\n",
    "movies_genres = movies[['id_movie','genres']].copy()\n",
    "\n",
    "# movies_genres['genres'] = movies_genres[['genres']].replace(\"[]\", \"[{'id': 0, 'name': 'None'}]\")  # ya esta arriba\n",
    "\n",
    "movies_genres['genres'] = movies_genres['genres'].apply(ast.literal_eval)\n",
    "\n",
    "# # Aplicamos explode() para crear filas adicionales para cada elemento en la lista genres\n",
    "movies_genres = movies_genres.explode('genres')\n",
    "\n",
    "# # Extraer el valor de id_genre de cada elemento en la lista genres\n",
    "movies_genres['id_genre'] = movies_genres['genres'].apply(lambda x: x['id'])\n",
    "\n",
    "# Eliminar la columna genres\n",
    "movies_genres = movies_genres.drop('genres', axis=1)\n",
    "\n",
    "# Eliminamos la columna production_companies de la tabla movies\n",
    "movies = movies.drop('genres', axis=1)\n",
    "\n",
    "\n"
   ]
  },
  {
   "cell_type": "code",
   "execution_count": 85,
   "metadata": {},
   "outputs": [],
   "source": [
    "### TABLA MOVIES_production_companies\n",
    "movies_production_companies = movies[['id_movie','production_companies']].copy()\n",
    "\n",
    "#reemplazamos los valores nulos por \"[{'name': 'None', 'id': 0}]\"\n",
    "movies_production_companies['production_companies'] = movies_production_companies[['production_companies']].replace(\"[]\", \"[{'name': 'None', 'id': 0}]\")\n",
    "\n",
    "movies_production_companies['production_companies'] = movies_production_companies['production_companies'].apply(ast.literal_eval)\n",
    "\n",
    "# Aplicamos explode() para crear filas adicionales para cada elemento en la lista production_companies\n",
    "movies_production_companies = movies_production_companies.explode('production_companies')\n",
    "\n",
    "# Extraemos el valor de id_production_companies de cada elemento en la lista production_companies\n",
    "movies_production_companies['id_production_companies'] = movies_production_companies['production_companies'].apply(lambda x: x['id'])\n",
    "\n",
    "# # Eliminar la columna production_companies\n",
    "movies_production_companies = movies_production_companies.drop('production_companies', axis=1)\n",
    "\n",
    "# Creamos el csv\n",
    "movies_production_companies.to_csv(\"movies_production_companies.csv\",index=False)\n",
    "\n",
    "\n",
    "# TABLA production_companies\n",
    "\n",
    "production_companies = movies['production_companies'].apply(ast.literal_eval) # Convertir el string a lista de diccionarios\n",
    "production_companies = pd.DataFrame([dict(x) for x in production_companies.sum()])[['id', 'name']]\n",
    "production_companies = production_companies.drop_duplicates()\n",
    "production_companies.to_csv(\"production_companies.csv\",index=False)\n",
    "\n",
    "\n",
    "# Eliminamos la columna production_companies de la tabla movies\n",
    "movies = movies.drop('production_companies', axis=1)\n",
    "\n"
   ]
  },
  {
   "cell_type": "code",
   "execution_count": 87,
   "metadata": {},
   "outputs": [],
   "source": [
    "### TABLA MOVIES_production_countries\n",
    "\n",
    "movies_production_countries = movies[['id_movie','production_countries']].copy()\n",
    "\n",
    "# Reemplazamos los valores nulos por \"[{'iso_3166_1': 'none', 'name': 'none'}]\"\n",
    "movies_production_countries['production_countries'] = movies_production_countries[['production_countries']].replace(\"[]\", \"[{'iso_3166_1': 'none', 'name': 'none'}]\")  # ya esta arriba\n",
    "movies_production_countries['production_countries'] = movies_production_countries['production_countries'].apply(ast.literal_eval)\n",
    "\n",
    "# Aplicamos explode() para crear filas adicionales para cada elemento en la lista production_countries\n",
    "movies_production_countries = movies_production_countries.explode('production_countries')\n",
    "\n",
    "# Extraer el valor de id_production_countries de cada elemento en la lista production_countries\n",
    "movies_production_countries['id_production_countries'] = movies_production_countries['production_countries'].apply(lambda x: x['iso_3166_1'])\n",
    "\n",
    "# Eliminar la columna genres\n",
    "movies_production_countries = movies_production_countries.drop('production_countries', axis=1)\n",
    "\n",
    "# Creamos el csv\n",
    "movies_production_countries.to_csv(\"movies_production_countries.csv\",index=False)\n",
    "\n",
    "\n",
    "### TABLA production_countries\n",
    "\n",
    "production_countries = movies['production_countries'].apply(ast.literal_eval) # Convertir el string a lista de diccionarios\n",
    "production_countries = pd.DataFrame([dict(x) for x in production_countries.sum()])[['iso_3166_1', 'name']]\n",
    "production_countries = production_countries.drop_duplicates()\n",
    "\n",
    "# Creamos el csv\n",
    "production_countries.to_csv(\"production_countries.csv\",index=False)\n",
    "\n",
    "# Eliminamos la columna production_countries de la tabla movies\n",
    "movies = movies.drop('production_countries', axis=1)\n"
   ]
  },
  {
   "cell_type": "code",
   "execution_count": 89,
   "metadata": {},
   "outputs": [],
   "source": [
    "### TABLA MOVIES_spoken_languages\n",
    "\n",
    "movies_spoken_languages = movies[['id_movie','spoken_languages']].copy()\n",
    "\n",
    "# Reemplazamos los valores nulos por \"[{'iso_639_1': 'none', 'name': 'none'}]\"\n",
    "movies_spoken_languages['spoken_languages'] = movies_spoken_languages[['spoken_languages']].replace(\"[]\", \"[{'iso_639_1': 'none', 'name': 'none'}]\")  \n",
    "movies_spoken_languages['spoken_languages'] = movies_spoken_languages['spoken_languages'].apply(ast.literal_eval)\n",
    "\n",
    "# Aplicamos explode() para crear filas adicionales para cada elemento en la lista genres\n",
    "movies_spoken_languages = movies_spoken_languages.explode('spoken_languages')\n",
    "\n",
    "# Extraer el valor de id_genre de cada elemento en la lista genres\n",
    "movies_spoken_languages['id_spoken_languages'] = movies_spoken_languages['spoken_languages'].apply(lambda x: x['iso_639_1'])\n",
    "\n",
    "# Eliminar la columna spoken_languages\n",
    "movies_spoken_languages = movies_spoken_languages.drop('spoken_languages', axis=1)\n",
    "\n",
    "# Creamos el csv\n",
    "movies_spoken_languages.to_csv(\"movies_spoken_languages.csv\",index=False)\n",
    "\n",
    "\n",
    "### TABLA spoken_languages\n",
    "\n",
    "spoken_languages = movies['spoken_languages'].apply(ast.literal_eval) # Convertir el string a lista de diccionarios\n",
    "spoken_languages = pd.DataFrame([dict(x) for x in spoken_languages.sum()])[['iso_639_1', 'name']]\n",
    "spoken_languages = spoken_languages.drop_duplicates()\n",
    "\n",
    "# Creamos el csv\n",
    "spoken_languages.to_csv(\"spoken_languages.csv\",index=False)\n",
    "\n",
    "\n",
    "# Eliminamos la columna production_countries de la tabla movies\n",
    "movies = movies.drop('spoken_languages', axis=1)\n"
   ]
  },
  {
   "cell_type": "code",
   "execution_count": 91,
   "metadata": {},
   "outputs": [],
   "source": [
    "movies.to_csv(\"movies_etl.csv\",index=False)\n"
   ]
  }
 ],
 "metadata": {
  "kernelspec": {
   "display_name": "Python 3",
   "language": "python",
   "name": "python3"
  },
  "language_info": {
   "codemirror_mode": {
    "name": "ipython",
    "version": 3
   },
   "file_extension": ".py",
   "mimetype": "text/x-python",
   "name": "python",
   "nbconvert_exporter": "python",
   "pygments_lexer": "ipython3",
   "version": "3.11.0"
  },
  "orig_nbformat": 4
 },
 "nbformat": 4,
 "nbformat_minor": 2
}
